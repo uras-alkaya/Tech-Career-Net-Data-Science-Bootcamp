{
  "nbformat": 4,
  "nbformat_minor": 0,
  "metadata": {
    "colab": {
      "provenance": []
    },
    "kernelspec": {
      "name": "python3",
      "display_name": "Python 3"
    },
    "language_info": {
      "name": "python"
    }
  },
  "cells": [
    {
      "cell_type": "markdown",
      "source": [
        "#**- Questions**"
      ],
      "metadata": {
        "id": "MmVw31EPs4qW"
      }
    },
    {
      "cell_type": "code",
      "source": [
        "#First Question\n",
        "num = int(input(\"Enter a number: \"))\n",
        "\n",
        "if num > 0:\n",
        "    if num % 2 == 0:\n",
        "        print(\"Positive Even\")\n",
        "    else:\n",
        "        print(\"Positive Odd\")\n",
        "elif num < 0:\n",
        "    if num % 2 == 0:\n",
        "        print(\"Negative Even\")\n",
        "    else:\n",
        "        print(\"Negative Odd\")\n",
        "else:\n",
        "    print(\"Zero\")"
      ],
      "metadata": {
        "colab": {
          "base_uri": "https://localhost:8080/"
        },
        "id": "NixuURA-s4au",
        "outputId": "4213f629-13ea-4c6c-99f1-7f0341ef7b1f"
      },
      "execution_count": null,
      "outputs": [
        {
          "output_type": "stream",
          "name": "stdout",
          "text": [
            "Enter a number: -7\n",
            "Negative Odd\n"
          ]
        }
      ]
    },
    {
      "cell_type": "code",
      "execution_count": null,
      "metadata": {
        "colab": {
          "base_uri": "https://localhost:8080/"
        },
        "id": "N-7u6ezcqqce",
        "outputId": "478c33c5-db4e-4ca4-9ce6-fee3b77e095f"
      },
      "outputs": [
        {
          "output_type": "stream",
          "name": "stdout",
          "text": [
            "Enter a word: programming\n",
            "Letter frequency: {'p': 1, 'r': 2, 'o': 1, 'g': 2, 'a': 1, 'm': 2, 'i': 1, 'n': 1}\n"
          ]
        }
      ],
      "source": [
        "#Second Question\n",
        "word = input(\"Enter a word: \")\n",
        "\n",
        "letter_count = {}\n",
        "\n",
        "for char in word:\n",
        "    if char in letter_count:\n",
        "        letter_count[char] += 1\n",
        "    else:\n",
        "        letter_count[char] = 1\n",
        "\n",
        "print(\"Letter frequency:\", letter_count)"
      ]
    },
    {
      "cell_type": "code",
      "source": [
        "# Third Question\n",
        "password = input(\"Enter your password: \")\n",
        "\n",
        "length_ok = len(password) >= 8\n",
        "has_upper = any(char.isupper() for char in password)\n",
        "has_digit = any(char.isdigit() for char in password)\n",
        "\n",
        "if length_ok and has_upper and has_digit:\n",
        "    print(\"Password is valid ✅\")\n",
        "else:\n",
        "    print(\"Password is invalid ❌\")\n",
        "    if not length_ok:\n",
        "        print(\"- Password must be at least 8 characters long\")\n",
        "    if not has_upper:\n",
        "        print(\"- Password must contain at least one uppercase letter\")\n",
        "    if not has_digit:\n",
        "        print(\"- Password must contain at least one digit\")"
      ],
      "metadata": {
        "colab": {
          "base_uri": "https://localhost:8080/"
        },
        "id": "YS0_fmZxuJtK",
        "outputId": "a2cb7ea6-9650-412d-d563-735bb5ed7e4e"
      },
      "execution_count": null,
      "outputs": [
        {
          "output_type": "stream",
          "name": "stdout",
          "text": [
            "Enter your password: Python03\n",
            "Password is valid ✅\n"
          ]
        }
      ]
    },
    {
      "cell_type": "code",
      "source": [
        "# Forth Question\n",
        "numbers = [12, 4, 9, 25, 30, 7, 18]\n",
        "average = sum(numbers) / len(numbers)\n",
        "\n",
        "greater_than_average = []\n",
        "\n",
        "for num in numbers:\n",
        "    if num > average:\n",
        "        greater_than_average.append(num)\n",
        "\n",
        "print(\"List:\", numbers)\n",
        "print(\"Average:\", average)\n",
        "print(\"Numbers greater than average:\", greater_than_average)"
      ],
      "metadata": {
        "colab": {
          "base_uri": "https://localhost:8080/"
        },
        "id": "QU_TNoxgummr",
        "outputId": "787464d1-49e8-4299-acf7-72987999c56e"
      },
      "execution_count": null,
      "outputs": [
        {
          "output_type": "stream",
          "name": "stdout",
          "text": [
            "List: [12, 4, 9, 25, 30, 7, 18]\n",
            "Average: 15.0\n",
            "Numbers greater than average: [25, 30, 18]\n"
          ]
        }
      ]
    },
    {
      "cell_type": "code",
      "source": [
        "# Fifth Question\n",
        "rows = 5\n",
        "\n",
        "for i in range(1, rows + 1):\n",
        "    print('*' * i)"
      ],
      "metadata": {
        "colab": {
          "base_uri": "https://localhost:8080/"
        },
        "id": "gk2ywrMCu1ss",
        "outputId": "7dfad65b-141d-4bf9-e9cb-d63cd300337d"
      },
      "execution_count": null,
      "outputs": [
        {
          "output_type": "stream",
          "name": "stdout",
          "text": [
            "*\n",
            "**\n",
            "***\n",
            "****\n",
            "*****\n"
          ]
        }
      ]
    },
    {
      "cell_type": "code",
      "source": [
        "# Sixth Question\n",
        "total = 0\n",
        "count = 0\n",
        "\n",
        "while True:\n",
        "    num = int(input(\"Enter a number (0 to stop): \"))\n",
        "    if num == 0:\n",
        "        break\n",
        "    total += num\n",
        "    count += 1\n",
        "\n",
        "if count > 0:\n",
        "    average = total / count\n",
        "else:\n",
        "    average = 0\n",
        "\n",
        "print(\"Total sum:\", total)\n",
        "print(\"Average:\", average)"
      ],
      "metadata": {
        "id": "X1lyZ84yvDje",
        "colab": {
          "base_uri": "https://localhost:8080/"
        },
        "outputId": "3cc11429-8bbc-4136-83c0-b2fa5758ebf4"
      },
      "execution_count": 14,
      "outputs": [
        {
          "output_type": "stream",
          "name": "stdout",
          "text": [
            "Enter a number (0 to stop): 1\n",
            "Enter a number (0 to stop): 2\n",
            "Enter a number (0 to stop): 3\n",
            "Enter a number (0 to stop): 4\n",
            "Enter a number (0 to stop): 5\n",
            "Enter a number (0 to stop): 0\n",
            "Total sum: 15\n",
            "Average: 3.0\n"
          ]
        }
      ]
    },
    {
      "cell_type": "code",
      "source": [
        "# Seventh Question\n",
        "word = input(\"Enter a word: \")\n",
        "\n",
        "reversed_word = word[::-1]\n",
        "\n",
        "if word == reversed_word:\n",
        "    print(\"Palindrome ✅\")\n",
        "else:\n",
        "    print(\"Not a palindrome ❌\")"
      ],
      "metadata": {
        "colab": {
          "base_uri": "https://localhost:8080/"
        },
        "id": "ButPicdvwCtl",
        "outputId": "fa71fa80-0eb9-4f8d-980b-a53366bed85a"
      },
      "execution_count": 17,
      "outputs": [
        {
          "output_type": "stream",
          "name": "stdout",
          "text": [
            "Enter a word: level\n",
            "Palindrome ✅\n"
          ]
        }
      ]
    },
    {
      "cell_type": "code",
      "source": [
        "# Eighth Question\n",
        "squares = []\n",
        "\n",
        "for x in range(1, 101):\n",
        "    if x % 3 == 0 and x % 5 == 0:\n",
        "        squares.append(x**2)\n",
        "\n",
        "print(\"Squares of numbers divisible by both 3 and 5:\", squares)"
      ],
      "metadata": {
        "colab": {
          "base_uri": "https://localhost:8080/"
        },
        "id": "qeNeEeFGwsu5",
        "outputId": "5105ebf0-583a-4518-bea5-3b648f240576"
      },
      "execution_count": 18,
      "outputs": [
        {
          "output_type": "stream",
          "name": "stdout",
          "text": [
            "Squares of numbers divisible by both 3 and 5: [225, 900, 2025, 3600, 5625, 8100]\n"
          ]
        }
      ]
    },
    {
      "cell_type": "code",
      "source": [
        "# Nineth Question\n",
        "sentence = input(\"Enter a sentence: \")\n",
        "words = sentence.split()\n",
        "\n",
        "capitalized_words = []\n",
        "for word in words:\n",
        "    capitalized_words.append(word.capitalize())\n",
        "\n",
        "# Join the words back into a sentence\n",
        "new_sentence = \" \".join(capitalized_words)\n",
        "\n",
        "print(\"Capitalized sentence:\", new_sentence)"
      ],
      "metadata": {
        "colab": {
          "base_uri": "https://localhost:8080/"
        },
        "id": "z8JkRt4yxIbA",
        "outputId": "5500f92c-d407-4e31-98a2-a54af2ace1b8"
      },
      "execution_count": 22,
      "outputs": [
        {
          "output_type": "stream",
          "name": "stdout",
          "text": [
            "Enter a sentence: python data science\n",
            "Capitalized sentence: Python Data Science\n"
          ]
        }
      ]
    },
    {
      "cell_type": "markdown",
      "source": [
        "#**- Mini Project (Movie Comment Analysis)**"
      ],
      "metadata": {
        "id": "CryU5Ziv0l2H"
      }
    },
    {
      "cell_type": "code",
      "source": [
        "# Tenth Question\n",
        "# Getting comments from the user\n",
        "comments = []\n",
        "for i in range(5):\n",
        "    comment = input(f\"Enter comment {i+1}: \")\n",
        "    comments.append(comment)\n",
        "\n",
        "# Total number of comments\n",
        "total_comments = len(comments)\n",
        "\n",
        "# Number of comments containing the word \"good\"\n",
        "good_count = 0\n",
        "for c in comments:\n",
        "    if \"good\" in c.lower():\n",
        "        good_count += 1\n",
        "\n",
        "# Longest and shortest comment\n",
        "longest_comment = comments[0]\n",
        "shortest_comment = comments[0]\n",
        "\n",
        "for c in comments:\n",
        "    if len(c) > len(longest_comment):\n",
        "        longest_comment = c\n",
        "    if len(c) < len(shortest_comment):\n",
        "        shortest_comment = c\n",
        "\n",
        "# Average length\n",
        "total_length = 0\n",
        "for c in comments:\n",
        "    total_length += len(c)\n",
        "\n",
        "average_length = total_length / total_comments\n",
        "\n",
        "# Displaying the results\n",
        "print(\"\\nResults:\")\n",
        "print(\"Total number of comments:\", total_comments)\n",
        "print('Number of comments containing \"good\":', good_count)\n",
        "print(\"Longest comment:\", longest_comment)\n",
        "print(\"Shortest comment:\", shortest_comment)\n",
        "print(\"Average length:\", round(average_length, 1), \"characters\")"
      ],
      "metadata": {
        "colab": {
          "base_uri": "https://localhost:8080/"
        },
        "id": "_Ajvn5Wt0yc3",
        "outputId": "bc1bd40d-3378-4e35-af67-5c624d35d258"
      },
      "execution_count": 24,
      "outputs": [
        {
          "output_type": "stream",
          "name": "stdout",
          "text": [
            "Enter comment 1: This film was amazing\n",
            "Enter comment 2: It was so good\n",
            "Enter comment 3: What a horrible movie\n",
            "Enter comment 4: Good but could be better\n",
            "Enter comment 5: Not bad\n",
            "\n",
            "Results:\n",
            "Total number of comments: 5\n",
            "Number of comments containing \"good\": 2\n",
            "Longest comment: Good but could be better\n",
            "Shortest comment: Not bad\n",
            "Average length: 17.4 characters\n"
          ]
        }
      ]
    }
  ]
}