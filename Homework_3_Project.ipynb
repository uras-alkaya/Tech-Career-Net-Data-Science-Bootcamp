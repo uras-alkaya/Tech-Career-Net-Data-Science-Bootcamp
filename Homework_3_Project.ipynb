{
  "nbformat": 4,
  "nbformat_minor": 0,
  "metadata": {
    "colab": {
      "provenance": []
    },
    "kernelspec": {
      "name": "python3",
      "display_name": "Python 3"
    },
    "language_info": {
      "name": "python"
    }
  },
  "cells": [
    {
      "cell_type": "markdown",
      "source": [
        "# **Project - Book Sales Analysis System**"
      ],
      "metadata": {
        "id": "E53Scbd-63ci"
      }
    },
    {
      "cell_type": "code",
      "execution_count": 18,
      "metadata": {
        "colab": {
          "base_uri": "https://localhost:8080/"
        },
        "id": "c1wzi--D6gX5",
        "outputId": "cbd944dd-ab76-4bb8-e4e1-21d848219839"
      },
      "outputs": [
        {
          "output_type": "stream",
          "name": "stdout",
          "text": [
            "Best-selling book: Makine Öğrenmesi\n",
            "Author sales: {'Ali': 3400, 'Ayşe': 1550, 'Deniz': 400, 'Can': 1800}\n",
            "Genres: {'Akademik', 'Bilim', 'Sosyal', 'Sanat'}\n",
            "Books with sales >1000: ['Veri Bilimi 101', 'Makine Öğrenmesi', 'Matematiksel Modelleme']\n",
            "Books published after 2020: ['Veri Bilimi 101', 'Makine Öğrenmesi', 'Matematiksel Modelleme', 'Bilgi Toplumu']\n",
            "Sales increased by 10%: [1320.0, 1045.0, 770.0000000000001, 1980.0000000000002, 440.00000000000006, 1650.0000000000002, 660.0]\n",
            "Books sorted by sales (descending): ['Makine Öğrenmesi', 'Matematiksel Modelleme', 'Veri Bilimi 101', 'Python ile Yapay Zeka', 'İstatistik Temelleri', 'Bilgi Toplumu', 'Veri Görselleştirme']\n",
            "Average sales: 1021.4285714285714\n",
            "Most sold genre: Bilim\n",
            "Sales standard deviation: 506.5053001179939\n",
            "\n",
            "Train/Test Split Analysis:\n",
            "Train set size: 4\n",
            "Test set size: 3\n",
            "Average sales per author in train set: {'Ali': 950.0, 'Ayşe': 600.0, 'Deniz': 400.0}\n",
            "Books in test set above author's train average sales: ['Python ile Yapay Zeka', 'Matematiksel Modelleme', 'Makine Öğrenmesi']\n"
          ]
        }
      ],
      "source": [
        "import random\n",
        "import statistics\n",
        "\n",
        "# Sample book data\n",
        "books = [\n",
        "    {\"name\": \"Veri Bilimi 101\", \"author\": \"Ali\", \"genre\": \"Bilim\", \"sales\": 1200, \"year\": 2021},\n",
        "    {\"name\": \"Python ile Yapay Zeka\", \"author\": \"Ayşe\", \"genre\": \"Bilim\", \"sales\": 950, \"year\": 2020},\n",
        "    {\"name\": \"İstatistik Temelleri\", \"author\": \"Ali\", \"genre\": \"Akademik\", \"sales\": 700, \"year\": 2019},\n",
        "    {\"name\": \"Makine Öğrenmesi\", \"author\": \"Can\", \"genre\": \"Bilim\", \"sales\": 1800, \"year\": 2022},\n",
        "    {\"name\": \"Veri Görselleştirme\", \"author\": \"Deniz\", \"genre\": \"Sanat\", \"sales\": 400, \"year\": 2018},\n",
        "    {\"name\": \"Matematiksel Modelleme\", \"author\": \"Ali\", \"genre\": \"Akademik\", \"sales\": 1500, \"year\": 2021},\n",
        "    {\"name\": \"Bilgi Toplumu\", \"author\": \"Ayşe\", \"genre\": \"Sosyal\", \"sales\": 600, \"year\": 2022}\n",
        "]\n",
        "\n",
        "# 1. Functions\n",
        "# Function to find the best-selling book\n",
        "def best_selling(books):\n",
        "    return max(books, key=lambda x: x['sales'])\n",
        "\n",
        "# Function to calculate total sales per author\n",
        "def author_sales(books):\n",
        "    sales_dict = {}\n",
        "    for book in books:\n",
        "        sales_dict[book['author']] = sales_dict.get(book['author'], 0) + book['sales']\n",
        "    return sales_dict\n",
        "\n",
        "# 2. List and Set operations\n",
        "# All genres (as a set, no duplicates)\n",
        "all_genres = {book['genre'] for book in books}\n",
        "\n",
        "# Books with sales over 1000\n",
        "top_selling_books = [book['name'] for book in books if book['sales'] > 1000]\n",
        "\n",
        "# 3. Lambda / Filter / Map\n",
        "# Filter books published after 2020\n",
        "recent_books = list(filter(lambda x: x['year'] > 2020, books))\n",
        "\n",
        "# Increase all sales by 10%\n",
        "increased_sales = list(map(lambda x: x['sales'] * 1.1, books))\n",
        "\n",
        "# Sort books by sales in descending order\n",
        "sorted_by_sales = sorted(books, key=lambda x: x['sales'], reverse=True)\n",
        "\n",
        "# 4. Statistical Analysis\n",
        "# Average sales\n",
        "average_sales = statistics.mean([book['sales'] for book in books])\n",
        "\n",
        "# Most sold genre\n",
        "genre_sales = {}\n",
        "for book in books:\n",
        "    genre_sales[book['genre']] = genre_sales.get(book['genre'], 0) + book['sales']\n",
        "most_sold_genre = max(genre_sales, key=genre_sales.get)\n",
        "\n",
        "# Standard deviation of sales\n",
        "sales_std = statistics.stdev([book['sales'] for book in books])\n",
        "\n",
        "# 5. Train/Test Split Simulation\n",
        "# Shuffle and split books into 70% train, 30% test\n",
        "random.shuffle(books)\n",
        "train_size = int(len(books) * 0.7)\n",
        "train_set = books[:train_size]\n",
        "test_set = books[train_size:]\n",
        "\n",
        "# Average sales per author in train set\n",
        "train_author_sales = author_sales(train_set)\n",
        "train_author_avg = {author: sales / sum(1 for b in train_set if b['author'] == author)\n",
        "                    for author, sales in train_author_sales.items()}\n",
        "\n",
        "# Check which books in test set have sales above author's average from train\n",
        "above_avg_test_books = []\n",
        "for book in test_set:\n",
        "    avg = train_author_avg.get(book['author'], 0)\n",
        "    if book['sales'] > avg:\n",
        "        above_avg_test_books.append(book['name'])\n",
        "\n",
        "# Printing results\n",
        "print(\"Best-selling book:\", best_selling(books)['name'])\n",
        "print(\"Author sales:\", author_sales(books))\n",
        "print(\"Genres:\", all_genres)\n",
        "print(\"Books with sales >1000:\", top_selling_books)\n",
        "print(\"Books published after 2020:\", [book['name'] for book in recent_books])\n",
        "print(\"Sales increased by 10%:\", increased_sales)\n",
        "print(\"Books sorted by sales (descending):\", [book['name'] for book in sorted_by_sales])\n",
        "print(\"Average sales:\", average_sales)\n",
        "print(\"Most sold genre:\", most_sold_genre)\n",
        "print(\"Sales standard deviation:\", sales_std)\n",
        "\n",
        "print(\"\\nTrain/Test Split Analysis:\")\n",
        "print(\"Train set size:\", len(train_set))\n",
        "print(\"Test set size:\", len(test_set))\n",
        "print(\"Average sales per author in train set:\", train_author_avg)\n",
        "print(\"Books in test set above author's train average sales:\", above_avg_test_books)"
      ]
    }
  ]
}