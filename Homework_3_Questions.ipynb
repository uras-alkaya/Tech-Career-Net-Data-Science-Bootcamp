{
  "nbformat": 4,
  "nbformat_minor": 0,
  "metadata": {
    "colab": {
      "provenance": []
    },
    "kernelspec": {
      "name": "python3",
      "display_name": "Python 3"
    },
    "language_info": {
      "name": "python"
    }
  },
  "cells": [
    {
      "cell_type": "markdown",
      "source": [
        "# **- Questions**"
      ],
      "metadata": {
        "id": "1VRtX-ZHuwOb"
      }
    },
    {
      "cell_type": "code",
      "execution_count": null,
      "metadata": {
        "colab": {
          "base_uri": "https://localhost:8080/"
        },
        "id": "in4er2mGsYHu",
        "outputId": "1269bf37-0407-4c36-a73e-8fb8e628949b"
      },
      "outputs": [
        {
          "output_type": "stream",
          "name": "stdout",
          "text": [
            "Unique grades: [100, 92, 85, 76]\n",
            "Highest grade: 100\n",
            "Lowest grade: 76\n",
            "Sorted grades (ascending): [76, 85, 92, 100]\n"
          ]
        }
      ],
      "source": [
        "#First Question\n",
        "grades = [85, 92, 76, 92, 100, 76, 85, 92]\n",
        "\n",
        "unique_grades = list(set(grades))\n",
        "print(\"Unique grades:\", unique_grades)\n",
        "\n",
        "highest = max(unique_grades)\n",
        "lowest = min(unique_grades)\n",
        "print(\"Highest grade:\", highest)\n",
        "print(\"Lowest grade:\", lowest)\n",
        "\n",
        "sorted_grades = sorted(unique_grades)\n",
        "print(\"Sorted grades (ascending):\", sorted_grades)"
      ]
    },
    {
      "cell_type": "code",
      "source": [
        "#Second Question\n",
        "def is_armstrong(number):\n",
        "    digits = str(number)\n",
        "    power = len(digits)  # number of digits\n",
        "\n",
        "    # Build expression string like \"1^3 + 5^3 + 3^3\"\n",
        "    terms = [f\"{digit}^{power}\" for digit in digits]\n",
        "    expression = \" + \".join(terms)\n",
        "\n",
        "    total = sum(int(digit) ** power for digit in digits)\n",
        "    print(f\"{number} → {expression} = {total}\")\n",
        "    return total == number\n",
        "\n",
        "num = int(input(\"Enter a number: \"))\n",
        "\n",
        "if is_armstrong(num):\n",
        "    print(f\"{num} is an Armstrong number.\")\n",
        "else:\n",
        "    print(f\"{num} is NOT an Armstrong number.\")"
      ],
      "metadata": {
        "colab": {
          "base_uri": "https://localhost:8080/"
        },
        "id": "_tUshxnQwoY8",
        "outputId": "bb857e4a-00a4-4ea1-9a63-7b9b193d0d4e"
      },
      "execution_count": null,
      "outputs": [
        {
          "output_type": "stream",
          "name": "stdout",
          "text": [
            "Enter a number: 153\n",
            "153 → 1^3 + 5^3 + 3^3 = 153\n",
            "153 is an Armstrong number.\n"
          ]
        }
      ]
    },
    {
      "cell_type": "code",
      "source": [
        "# Third Question\n",
        "A = {\"Python\", \"R\", \"SQL\", \"Java\"}\n",
        "B = {\"C++\", \"Python\", \"JavaScript\", \"SQL\"}\n",
        "\n",
        "# Find common languages (intersection)\n",
        "common = A & B\n",
        "print(\"Common languages:\", common)\n",
        "\n",
        "# Find languages only in A (difference)\n",
        "only_in_A = A - B\n",
        "print(\"Languages only in A:\", only_in_A)\n",
        "\n",
        "# Find union of both sets and sort alphabetically\n",
        "union_sorted = sorted(A | B)\n",
        "print(\"Union of both sets (alphabetical):\", union_sorted)"
      ],
      "metadata": {
        "colab": {
          "base_uri": "https://localhost:8080/"
        },
        "id": "XzmmeVRbx4jU",
        "outputId": "9df8dcbf-07d8-4566-8088-be1c19cc0b52"
      },
      "execution_count": null,
      "outputs": [
        {
          "output_type": "stream",
          "name": "stdout",
          "text": [
            "Common languages: {'Python', 'SQL'}\n",
            "Languages only in A: {'Java', 'R'}\n",
            "Union of both sets (alphabetical): ['C++', 'Java', 'JavaScript', 'Python', 'R', 'SQL']\n"
          ]
        }
      ]
    },
    {
      "cell_type": "code",
      "source": [
        "# Forth Question\n",
        "import random\n",
        "import statistics\n",
        "\n",
        "numbers = [random.randint(1, 100) for _ in range(10)]\n",
        "print(\"Random numbers:\", numbers)\n",
        "\n",
        "mean_value = statistics.mean(numbers)\n",
        "print(\"Mean of numbers:\", mean_value)\n",
        "\n",
        "stdev_value = statistics.stdev(numbers)\n",
        "print(\"Standard deviation of numbers:\", stdev_value)"
      ],
      "metadata": {
        "colab": {
          "base_uri": "https://localhost:8080/"
        },
        "id": "SvvLfH0tyIgn",
        "outputId": "f8b59a53-0107-436f-b8b5-b8566f786cd9"
      },
      "execution_count": null,
      "outputs": [
        {
          "output_type": "stream",
          "name": "stdout",
          "text": [
            "Random numbers: [51, 89, 82, 59, 70, 41, 42, 19, 39, 79]\n",
            "Mean of numbers: 57.1\n",
            "Standard deviation of numbers: 22.585393509965684\n"
          ]
        }
      ]
    },
    {
      "cell_type": "code",
      "source": [
        "# Fifth Question\n",
        "def word_counter(text):\n",
        "    words = text.split()\n",
        "    total_words = len(words)\n",
        "    longest_word = max(words, key=len)\n",
        "    most_frequent = max(set(words), key=words.count)\n",
        "    return total_words, longest_word, most_frequent\n",
        "\n",
        "sentence = input(\"Enter a sentence: \")\n",
        "total, longest, frequent = word_counter(sentence)\n",
        "\n",
        "print(\"Total words:\", total)\n",
        "print(\"Longest word:\", longest)\n",
        "print(\"Most frequent word:\", frequent)"
      ],
      "metadata": {
        "colab": {
          "base_uri": "https://localhost:8080/"
        },
        "id": "LAmV4uBZyUK6",
        "outputId": "837a9633-bc0e-4fe3-ce9c-ee0e0230ca03"
      },
      "execution_count": null,
      "outputs": [
        {
          "output_type": "stream",
          "name": "stdout",
          "text": [
            "Enter a sentence: Python is comfortable and python is powerful\n",
            "Total words: 7\n",
            "Longest word: comfortable\n",
            "Most frequent word: is\n"
          ]
        }
      ]
    },
    {
      "cell_type": "code",
      "source": [
        "# Sixth Question\n",
        "numbers = [5, 12, 7, 18, 24, 3, 16]\n",
        "\n",
        "even_numbers = list(filter(lambda x: x % 2 == 0, numbers))\n",
        "print(\"Even numbers:\", even_numbers)\n",
        "\n",
        "squares = list(map(lambda x: x ** 2, even_numbers))\n",
        "print(\"Squares of even numbers:\", squares)\n",
        "\n",
        "sorted_squares = sorted(squares, reverse=True)\n",
        "print(\"Squares sorted in descending order:\", sorted_squares)"
      ],
      "metadata": {
        "colab": {
          "base_uri": "https://localhost:8080/"
        },
        "id": "Udon5eNQ0ES1",
        "outputId": "0a810d55-faf8-4b71-9a26-403d6d05f036"
      },
      "execution_count": null,
      "outputs": [
        {
          "output_type": "stream",
          "name": "stdout",
          "text": [
            "Even numbers: [12, 18, 24, 16]\n",
            "Squares of even numbers: [144, 324, 576, 256]\n",
            "Squares sorted in descending order: [576, 324, 256, 144]\n"
          ]
        }
      ]
    },
    {
      "cell_type": "code",
      "source": [
        "# Seventh Question\n",
        "words = [\"veri\", \"bilim\", \"analiz\", \"yapayzeka\", \"python\"]\n",
        "\n",
        "sorted_words = sorted(words, key=lambda x: len(x))\n",
        "print(\"Words sorted by length:\", sorted_words)"
      ],
      "metadata": {
        "colab": {
          "base_uri": "https://localhost:8080/"
        },
        "id": "wnsIlILb0QWz",
        "outputId": "469b041b-96e5-446a-b066-274f05475992"
      },
      "execution_count": null,
      "outputs": [
        {
          "output_type": "stream",
          "name": "stdout",
          "text": [
            "Words sorted by length: ['veri', 'bilim', 'analiz', 'python', 'yapayzeka']\n"
          ]
        }
      ]
    },
    {
      "cell_type": "code",
      "source": [
        "# Eighth Question\n",
        "def sum_digits(text):\n",
        "    digits = [int(char) for char in text if char.isdigit()]\n",
        "\n",
        "    total = sum(digits)\n",
        "    return total\n",
        "\n",
        "user_input = input(\"Enter a string: \")\n",
        "result = sum_digits(user_input)\n",
        "\n",
        "print(\"Sum of all digits in the string:\", result)"
      ],
      "metadata": {
        "colab": {
          "base_uri": "https://localhost:8080/"
        },
        "id": "-hW_4kU75VD8",
        "outputId": "f94c3328-2640-4d61-df3e-71942121542a"
      },
      "execution_count": null,
      "outputs": [
        {
          "output_type": "stream",
          "name": "stdout",
          "text": [
            "Enter a string: asf52yu8p4\n",
            "Sum of all digits in the string: 19\n"
          ]
        }
      ]
    },
    {
      "cell_type": "code",
      "source": [
        "# Nineth Question\n",
        "import numpy as np\n",
        "\n",
        "arr = np.random.randint(0, 51, size=10)\n",
        "print(\"Random array:\", arr)\n",
        "\n",
        "mean_value = np.mean(arr)\n",
        "print(\"Mean of the array:\", mean_value)\n",
        "\n",
        "stdev_value = np.std(arr)\n",
        "print(\"Standard deviation of the array:\", stdev_value)\n",
        "\n",
        "max_value = np.max(arr)\n",
        "print(\"Maximum value in the array:\", max_value)"
      ],
      "metadata": {
        "colab": {
          "base_uri": "https://localhost:8080/"
        },
        "id": "kiCqcn63500g",
        "outputId": "5378705f-6fc7-4975-93f0-edd2dd65ed0c"
      },
      "execution_count": null,
      "outputs": [
        {
          "output_type": "stream",
          "name": "stdout",
          "text": [
            "Random array: [39 27 12 37 10 10 22 39 42 36]\n",
            "Mean of the array: 27.4\n",
            "Standard deviation of the array: 12.330450113438683\n",
            "Maximum value in the array: 42\n"
          ]
        }
      ]
    },
    {
      "cell_type": "code",
      "source": [
        "# Tenth Question\n",
        "import numpy as np\n",
        "\n",
        "matrix = np.random.rand(5, 5)\n",
        "print(\"Random 5x5 matrix:\\n\", matrix)\n",
        "\n",
        "column_means = np.mean(matrix, axis=0)\n",
        "print(\"Column means:\", column_means)\n",
        "\n",
        "binary_matrix = (matrix > 0.5).astype(int)\n",
        "print(\"Binary matrix:\\n\", binary_matrix)"
      ],
      "metadata": {
        "colab": {
          "base_uri": "https://localhost:8080/"
        },
        "id": "7599M-h36Ahm",
        "outputId": "d31073f4-6ad6-4d55-87a1-735429eeac44"
      },
      "execution_count": null,
      "outputs": [
        {
          "output_type": "stream",
          "name": "stdout",
          "text": [
            "Random 5x5 matrix:\n",
            " [[0.75101094 0.37088137 0.04261671 0.00868356 0.54242395]\n",
            " [0.95389035 0.99248189 0.91251373 0.39455994 0.5918336 ]\n",
            " [0.99710486 0.85048893 0.74753308 0.39176101 0.90672322]\n",
            " [0.85412426 0.92711133 0.87993102 0.47440227 0.99551082]\n",
            " [0.25978568 0.7322787  0.88646411 0.25952703 0.51278059]]\n",
            "Column means: [0.76318322 0.77464844 0.69381173 0.30578676 0.70985444]\n",
            "Binary matrix:\n",
            " [[1 0 0 0 1]\n",
            " [1 1 1 0 1]\n",
            " [1 1 1 0 1]\n",
            " [1 1 1 0 1]\n",
            " [0 1 1 0 1]]\n"
          ]
        }
      ]
    }
  ]
}