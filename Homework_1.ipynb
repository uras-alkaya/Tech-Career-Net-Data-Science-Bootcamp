{
  "nbformat": 4,
  "nbformat_minor": 0,
  "metadata": {
    "colab": {
      "provenance": []
    },
    "kernelspec": {
      "name": "python3",
      "display_name": "Python 3"
    },
    "language_info": {
      "name": "python"
    }
  },
  "cells": [
    {
      "cell_type": "markdown",
      "source": [
        "# **Part 1 - Data Types**"
      ],
      "metadata": {
        "id": "asTgeRY3lyiB"
      }
    },
    {
      "cell_type": "code",
      "execution_count": null,
      "metadata": {
        "colab": {
          "base_uri": "https://localhost:8080/"
        },
        "id": "xIEFzdiZdm2Q",
        "outputId": "f4f99149-3394-4fdd-fcbb-0d2b7fb4b134"
      },
      "outputs": [
        {
          "output_type": "stream",
          "name": "stdout",
          "text": [
            "Enter your name: Ali\n",
            "Enter your age: 17\n",
            "Enter your height (Example: 1.75): 1.90\n",
            "Hello, I am Ali ! Age: 17 Height: 1.9\n"
          ]
        }
      ],
      "source": [
        "#First Question\n",
        "name = input(\"Enter your name: \")\n",
        "age = int(input(\"Enter your age: \"))\n",
        "height = float(input(\"Enter your height (Example: 1.75): \"))\n",
        "\n",
        "print(\"Hello, I am\", name,\"!\", \"Age:\", age, \"Height:\", height)"
      ]
    },
    {
      "cell_type": "code",
      "source": [
        "#Second Question\n",
        "math = 94\n",
        "physics = 83\n",
        "chemistry = 88\n",
        "\n",
        "average = (math + physics + chemistry) / 3\n",
        "\n",
        "print(\"Average Grade:\", average)"
      ],
      "metadata": {
        "colab": {
          "base_uri": "https://localhost:8080/"
        },
        "id": "RymX3-A0iRxv",
        "outputId": "e901cae4-ca68-452c-a72b-ab13b2ccb214"
      },
      "execution_count": null,
      "outputs": [
        {
          "output_type": "stream",
          "name": "stdout",
          "text": [
            "Average Grade: 88.33333333333333\n"
          ]
        }
      ]
    },
    {
      "cell_type": "code",
      "source": [
        "# Third Question\n",
        "text = \"Python\"\n",
        "\n",
        "print(\"First character:\", text[0])\n",
        "print(\"Last character:\", text[-1])\n",
        "print(\"Length:\", len(text))\n",
        "print(\"Reversed:\", text[::-1])"
      ],
      "metadata": {
        "colab": {
          "base_uri": "https://localhost:8080/"
        },
        "id": "71Gmsd-AkLRM",
        "outputId": "9b2c89ce-44cf-44d1-e3a0-6ba10f9730d9"
      },
      "execution_count": null,
      "outputs": [
        {
          "output_type": "stream",
          "name": "stdout",
          "text": [
            "First character: P\n",
            "Last character: n\n",
            "Length: 6\n",
            "Reversed: nohtyP\n"
          ]
        }
      ]
    },
    {
      "cell_type": "markdown",
      "source": [
        "# **Part 2 - Operators**"
      ],
      "metadata": {
        "id": "w2r1YnCHl883"
      }
    },
    {
      "cell_type": "code",
      "source": [
        "# Forth Question\n",
        "num1 = int(input(\"Enter the first number: \"))\n",
        "num2 = int(input(\"Enter the second number: \"))\n",
        "\n",
        "print(\"Addition: \", num1 + num2)\n",
        "print(\"Subtraction: \", num1 - num2)\n",
        "print(\"Multiplication: \", num1 * num2)\n",
        "print(\"Division: \", num1 / num2)\n",
        "print(\"Modulo: \", num1 % num2)"
      ],
      "metadata": {
        "colab": {
          "base_uri": "https://localhost:8080/"
        },
        "id": "l29_oRX9kTa5",
        "outputId": "83232c5f-1e89-47c6-90d7-c1409df4ae9b"
      },
      "execution_count": null,
      "outputs": [
        {
          "output_type": "stream",
          "name": "stdout",
          "text": [
            "Enter the first number: 75\n",
            "Enter the second number: 50\n",
            "Addition:  125\n",
            "Subtraction:  25\n",
            "Multiplication:  3750\n",
            "Division:  1.5\n",
            "Modulo:  25\n"
          ]
        }
      ]
    },
    {
      "cell_type": "code",
      "source": [
        "# Fifth Question\n",
        "student_grade = int(input(\"Enter the student's grade: \"))\n",
        "passing_grade = student_grade > 50\n",
        "\n",
        "print(\"Did the student pass the exam?\", passing_grade)"
      ],
      "metadata": {
        "colab": {
          "base_uri": "https://localhost:8080/"
        },
        "id": "fx-xXvvWEdRV",
        "outputId": "01a1bff8-6a4a-4aec-961b-25b43066ead1"
      },
      "execution_count": null,
      "outputs": [
        {
          "output_type": "stream",
          "name": "stdout",
          "text": [
            "Enter the student's grade: 80\n",
            "Did the student pass the exam? True\n"
          ]
        }
      ]
    },
    {
      "cell_type": "code",
      "source": [
        "# Sixth Question\n",
        "age_of_user = int(input(\"Enter your age: \"))\n",
        "valid_age = age_of_user >= 18\n",
        "\n",
        "if valid_age:\n",
        "  print(\"You can get a driver's license. You are old enough to drive! ✅\")\n",
        "else:\n",
        "    print(\"You can't get a driver's license. You are not old enough to drive! ❌\")"
      ],
      "metadata": {
        "colab": {
          "base_uri": "https://localhost:8080/"
        },
        "id": "wmLj95A_E71g",
        "outputId": "9bae71c4-0973-4448-c654-38f53a887549"
      },
      "execution_count": null,
      "outputs": [
        {
          "output_type": "stream",
          "name": "stdout",
          "text": [
            "Enter your age: 14\n",
            "You can't get a driver's license. You are not old enough to drive! ❌\n"
          ]
        }
      ]
    },
    {
      "cell_type": "code",
      "source": [
        "# Seventh Question\n",
        "price = float(input(\"Enter the product price: \"))\n",
        "discount = float(input(\"Enter the discount rate (%): \"))\n",
        "\n",
        "discounted_price = price - (price * discount / 100)\n",
        "\n",
        "print(\"Discounted price:\", discounted_price)"
      ],
      "metadata": {
        "colab": {
          "base_uri": "https://localhost:8080/"
        },
        "id": "0ERBbjrXGozb",
        "outputId": "81df479a-47ee-471a-9c1e-567fd46332e0"
      },
      "execution_count": null,
      "outputs": [
        {
          "output_type": "stream",
          "name": "stdout",
          "text": [
            "Enter the product price: 100\n",
            "Enter the discount rate (%): 25\n",
            "Discounted price: 75.0\n"
          ]
        }
      ]
    },
    {
      "cell_type": "code",
      "source": [
        "# Eighth Question\n",
        "x = True\n",
        "y = False\n",
        "\n",
        "print(\"x and y: \", x and y)\n",
        "print(\"x or y: \", x or y)\n",
        "print(\"not x: \", not x)\n",
        "print(\"not y: \", not y)"
      ],
      "metadata": {
        "colab": {
          "base_uri": "https://localhost:8080/"
        },
        "id": "D8lYG9JVHEze",
        "outputId": "e2bab633-2f27-4f4b-e310-9ba2a8b03640"
      },
      "execution_count": null,
      "outputs": [
        {
          "output_type": "stream",
          "name": "stdout",
          "text": [
            "x and y:  False\n",
            "x or y:  True\n",
            "not x:  False\n",
            "not y:  True\n"
          ]
        }
      ]
    },
    {
      "cell_type": "markdown",
      "source": [
        "# **Part 3 - Mini Project**"
      ],
      "metadata": {
        "id": "0N4rqllbHy7N"
      }
    },
    {
      "cell_type": "code",
      "source": [
        "# Nineth Question\n",
        "price_1 = float(input(\"Enter the first price: \"))\n",
        "price_2 = float(input(\"Enter the second price: \"))\n",
        "price_3 = float(input(\"Enter the third price: \"))\n",
        "\n",
        "total_price = price_1 + price_2 + price_3\n",
        "\n",
        "if total_price > 200:\n",
        "  final_total_price = total_price - (total_price * 0.1)\n",
        "  print(\"A 10% discount was applied because the total price exceeded 200 TL.\")\n",
        "  print(\"Total price with 10% discount: \", final_total_price)\n",
        "else:\n",
        "  print(\"No discount was applied.\")\n",
        "  print(\"Total price: \", total_price)"
      ],
      "metadata": {
        "colab": {
          "base_uri": "https://localhost:8080/"
        },
        "id": "CzRGEi33HyZ2",
        "outputId": "468dbad7-013b-4251-80c9-ea0f7ac8b487"
      },
      "execution_count": 2,
      "outputs": [
        {
          "output_type": "stream",
          "name": "stdout",
          "text": [
            "Enter the first price: 10\n",
            "Enter the second price: 20\n",
            "Enter the third price: 50\n",
            "No discount was applied.\n",
            "Total price:  80.0\n"
          ]
        }
      ]
    },
    {
      "cell_type": "code",
      "source": [
        "# Tenth Question\n",
        "year_of_birth = int(input(\"Enter your year of birth: \"))\n",
        "current_year = 2025\n",
        "\n",
        "age_of_user = current_year - year_of_birth\n",
        "print(\"Your age: \", age_of_user)\n",
        "\n",
        "if age_of_user <= 12:\n",
        "  print(\"You are a child\")\n",
        "elif 13 <= age_of_user <= 17:\n",
        "  print(\"You are a teenager.\")\n",
        "elif 18 <= age_of_user:\n",
        "  print(\"You are an adult.\")"
      ],
      "metadata": {
        "colab": {
          "base_uri": "https://localhost:8080/"
        },
        "id": "HsCr3Up_iKRf",
        "outputId": "faae8036-3f8b-4dff-db4d-20bbc6e896f1"
      },
      "execution_count": 8,
      "outputs": [
        {
          "output_type": "stream",
          "name": "stdout",
          "text": [
            "Enter your year of birth: 2022\n",
            "Your age:  3\n",
            "You are a child\n"
          ]
        }
      ]
    }
  ]
}